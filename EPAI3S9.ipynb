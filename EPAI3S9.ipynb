{
 "cells": [
  {
   "cell_type": "markdown",
   "id": "82ab37b6-d6c9-4fa5-aa1e-0d90eaf5d69c",
   "metadata": {},
   "source": [
    "### Session 9"
   ]
  },
  {
   "cell_type": "code",
   "execution_count": 22,
   "id": "afb33ae4-7eef-4f6e-b213-df56a096f040",
   "metadata": {},
   "outputs": [],
   "source": [
    "from faker import Faker\n",
    "from collections import namedtuple\n",
    "import random\n",
    "import numpy as np\n",
    "from datetime import datetime\n",
    "import pandas as pd"
   ]
  },
  {
   "cell_type": "code",
   "execution_count": 6,
   "id": "c71d6beb-a33b-40d0-9d7b-38f5302441f1",
   "metadata": {
    "tags": []
   },
   "outputs": [],
   "source": [
    "single_stock_type = namedtuple('Ticker',\"\"\"Company Symbol Open High Low Close Weight\"\"\")\n",
    "named_profile = namedtuple('Profile',\n",
    "['job',\n",
    "'company',\n",
    "'ssn',\n",
    "'residence',\n",
    "'current_location',\n",
    "'blood_group',\n",
    "'website',\n",
    "'username',\n",
    "'name',\n",
    "'sex',\n",
    "'address',\n",
    "'mail',\n",
    "'birthdate'])\n",
    "\n",
    "def generate_company_details(count = 100):\n",
    "    \"\"\"\n",
    "    Returns two lists i.e name of company and stocker ticker of each company\n",
    "    \"\"\"\n",
    "#     stocks_list = []\n",
    "    unique_ticker = []\n",
    "    company_name_list=[]\n",
    "    fake = Faker()\n",
    "    Faker.seed(0)\n",
    "    for _ in range(count*3):\n",
    "        company_name = fake.company()\n",
    "        ticker = company_name.split(\" \")[0][:4].upper()\n",
    "        if ticker in unique_ticker or company_name in company_name_list:\n",
    "            print(\"Already present\", company_name, ticker)       \n",
    "        else:\n",
    "    #         validated_stock_entry = single_stock_type(company_name, ticker,*[None]*4)\n",
    "    #         stocks_list.append(validated_stock_entry)\n",
    "            unique_ticker.append(ticker)\n",
    "            company_name_list.append(company_name)\n",
    "    return company_name_list[:count], unique_ticker[:count]\n"
   ]
  },
  {
   "cell_type": "code",
   "execution_count": 7,
   "id": "1001cc40-f40c-4abb-9538-e7bb81e1916e",
   "metadata": {
    "collapsed": true,
    "jupyter": {
     "outputs_hidden": true
    },
    "tags": []
   },
   "outputs": [
    {
     "name": "stdout",
     "output_type": "stream",
     "text": [
      "Already present Martinez, Clark and Owen MART\n",
      "Already present Johnson, Coleman and Garcia JOHN\n",
      "Already present Jones-Jones JONE\n",
      "Already present Mcdonald, Carlson and Lyons MCDO\n",
      "Already present Harrison, Barrera and Hudson HARR\n",
      "Already present Williams, Campbell and Allen WILL\n",
      "Already present Bell-Roberts BELL\n",
      "Already present Miller, Wheeler and Hale MILL\n",
      "Already present Lopez-Key LOPE\n",
      "Already present Stewart-Lewis STEW\n",
      "Already present Alvarez Group ALVA\n",
      "Already present Miller, Hill and Chavez MILL\n",
      "Already present Ramirez Inc RAMI\n",
      "Already present Williams Ltd WILL\n",
      "Already present Browning, Williams and Curry BROW\n",
      "Already present Thompson, Bennett and Carter THOM\n",
      "Already present Chan-Johnson CHAN\n",
      "Already present Martin-Holden MART\n",
      "Already present Allen, Williams and White ALLE\n",
      "Already present Chandler, Turner and Houston CHAN\n",
      "Already present Martinez-Wilson MART\n",
      "Already present Walker, Cruz and Garcia WALK\n",
      "Already present Harris, Crawford and Scott HARR\n",
      "Already present Williams, Gould and Lewis WILL\n",
      "Already present Garcia Group GARC\n",
      "Already present Ward-Wilcox WARD\n",
      "Already present Hinton Group HINT\n",
      "Already present Baxter PLC BAXT\n",
      "Already present Jones and Sons JONE\n",
      "Already present Atkins-Owen ATKI\n",
      "Already present Chang, Mooney and Burgess CHAN\n",
      "Already present Lawson-Hall LAWS\n",
      "Already present Brown-Davidson BROW\n",
      "Already present Allen Ltd ALLE\n",
      "Already present Brown-Johnson BROW\n",
      "Already present Thomas-Wu THOM\n",
      "Already present Ellis-Garcia ELLI\n",
      "Already present Smith PLC SMIT\n",
      "Already present Anderson, Nguyen and Graves ANDE\n",
      "Already present Mcdonald, Chen and Morgan MCDO\n",
      "Already present Johnson Group JOHN\n",
      "Already present Clarke-Jones CLAR\n",
      "Already present Thomas PLC THOM\n",
      "Already present Brown-Perry BROW\n",
      "Already present Johnson, Bailey and Smith JOHN\n",
      "Already present Wood-Johnson WOOD\n",
      "Already present Johnson and Sons JOHN\n",
      "Already present Sanchez, Fischer and Carter SANC\n",
      "Already present Alvarado-Callahan ALVA\n",
      "Already present Smith, Miller and Jones SMIT\n",
      "Already present Garza LLC GARZ\n",
      "Already present Harris-Carter HARR\n",
      "Already present Davis-Lopez DAVI\n",
      "Already present Lopez-Fisher LOPE\n",
      "Already present Giles-Thomas GILE\n",
      "Already present Phillips Ltd PHIL\n",
      "Already present Montgomery-Smith MONT\n",
      "Already present Wilson-Irwin WILS\n",
      "Already present Stephenson-Williams STEP\n",
      "Already present Jones LLC JONE\n",
      "Already present Meyer-Berry MEYE\n",
      "Already present Clark, Garcia and Sosa CLAR\n",
      "Already present Moore Ltd MOOR\n",
      "Already present Chen-Newton CHEN\n",
      "Already present Woods Ltd WOOD\n",
      "Already present Thomas-Simpson THOM\n",
      "Already present Foster, Ward and Wilson FOST\n",
      "Already present Carter, Lester and Taylor CART\n",
      "Already present Roberts, Garcia and Murray ROBE\n",
      "Already present Hernandez, Stewart and Clark HERN\n",
      "Already present Wallace Group WALL\n",
      "Already present Willis Inc WILL\n",
      "Already present Johnson-Schultz JOHN\n",
      "Already present Ellis-Welch ELLI\n",
      "Already present Villa, Carpenter and Henry VILL\n",
      "Already present Alvarez, Rogers and Williams ALVA\n",
      "Already present Martin Inc MART\n",
      "Already present Grant-Walker GRAN\n",
      "Already present Morgan Inc MORG\n",
      "Already present Barry-Scott BARR\n",
      "Already present Williams, Wood and Clark WILL\n",
      "Already present Reed, Hood and King REED\n",
      "Already present Williams PLC WILL\n",
      "Already present Smith Group SMIT\n",
      "Already present Allen and Sons ALLE\n",
      "Already present Jones, Simmons and Fischer JONE\n",
      "Already present Williams-White WILL\n",
      "Already present Rodriguez-Lam RODR\n",
      "Already present Green, Hall and Wilson GREE\n",
      "Already present Garcia, Quinn and Wright GARC\n",
      "Already present Brown LLC BROW\n",
      "Already present Murphy, Brooks and Castillo MURP\n",
      "Already present Mcdowell and Sons MCDO\n",
      "Already present Franklin-Anderson FRAN\n",
      "Already present Bryant-Smith BRYA\n",
      "Already present Peters and Sons PETE\n",
      "Already present Morales, Lee and Stewart MORA\n",
      "Already present Cruz-Brown CRUZ\n",
      "Already present Edwards Ltd EDWA\n",
      "Already present Cooper Group COOP\n"
     ]
    },
    {
     "data": {
      "text/plain": [
       "(100, 100)"
      ]
     },
     "execution_count": 7,
     "metadata": {},
     "output_type": "execute_result"
    }
   ],
   "source": [
    "company_name_list, unique_ticker = generate_company_details(100)\n",
    "\n",
    "len(company_name_list), len(unique_ticker)"
   ]
  },
  {
   "cell_type": "code",
   "execution_count": 261,
   "id": "532e6623-0c1a-4853-9f20-4d7a3558686c",
   "metadata": {},
   "outputs": [],
   "source": [
    "weights = np.random.random_sample((100,)).round(2)\n",
    "# weights = list((weights/np.sum(weights)).round(2)[0])\n"
   ]
  },
  {
   "cell_type": "code",
   "execution_count": 319,
   "id": "f8c7bf1b-53ac-4f4f-8d1f-f19d0f2097f3",
   "metadata": {},
   "outputs": [
    {
     "data": {
      "text/plain": [
       "16607"
      ]
     },
     "execution_count": 319,
     "metadata": {},
     "output_type": "execute_result"
    }
   ],
   "source": [
    "# import x\n",
    "random.randint(1, 20000) #for i in "
   ]
  },
  {
   "cell_type": "code",
   "execution_count": 17,
   "id": "2c39cb93-6256-45b1-8ced-0b55b40a66ac",
   "metadata": {},
   "outputs": [],
   "source": [
    "def timed(num_reps):\n",
    "    \"\"\"\n",
    "    Decorator to check average function performance over a preconfigured time duration.\n",
    "    \"\"\"\n",
    "    from functools import wraps\n",
    "    print(f\"Timing for {num_reps}\")\n",
    "    def dec_time(fn):\n",
    "        from time import perf_counter\n",
    "        @wraps(fn)\n",
    "        def inner(*args, **kwargs):\n",
    "            total_elapsed = 0\n",
    "            for i in range(num_reps):\n",
    "                start = perf_counter()\n",
    "                result = fn(*args, **kwargs)\n",
    "                end = perf_counter()\n",
    "                total_elapsed += (end - start)\n",
    "            avg_elapsed = total_elapsed / num_reps\n",
    "            print(f'Average Run time for {num_reps} repetitions: {avg_elapsed*1000:.3f}ms')\n",
    "            return result\n",
    "        return inner\n",
    "    return dec_time\n",
    "\n",
    "def generate_market_prices(upper_cutoff=0.6, lower_cutoff=0.6):\n",
    "    \"\"\"\n",
    "    Generates Open, high, low and close prices from a random uniform distribution (1, 10000)\n",
    "    The upper_cutoff and lower_cutoff are used as max and min bounds based on the open value.\n",
    "    Basic constraints to be met are:\n",
    "    1. Open <= High\n",
    "    2. High >= Low\n",
    "    \"\"\"\n",
    "    if(upper_cutoff < 0 or lower_cutoff < 0 or lower_cutoff > 1 or upper_cutoff > 2):\n",
    "        raise ValueError\n",
    "\n",
    "    open_price = random.uniform(1, 10000)\n",
    "    random_high_price = random.uniform(open_price, open_price*(1+upper_cutoff))\n",
    "\n",
    "    min_low_price_range = open_price*(1-lower_cutoff)\n",
    "    random_low_price = random.uniform(min_low_price_range, random_high_price)\n",
    "    close_price = random.uniform(min([random_low_price,open_price,random_high_price]), max([random_low_price,open_price,random_high_price]))\n",
    "    high_price=max([open_price, random_high_price, random_low_price, close_price])\n",
    "    low_price=min([open_price, random_high_price, random_low_price, close_price])\n",
    "    return open_price, high_price, low_price, close_price\n",
    "\n"
   ]
  },
  {
   "cell_type": "code",
   "execution_count": 18,
   "id": "b2b65c16-6f98-4972-954e-5ff465679cca",
   "metadata": {
    "tags": []
   },
   "outputs": [
    {
     "name": "stdout",
     "output_type": "stream",
     "text": [
      "4233.48953188853 4575.087995330333 3274.895328811665 4190.806456259081\n",
      "7245.030913964859 8244.286923414342 4599.590187677114 4964.914692192549\n",
      "3838.451073675859 4499.3212212729995 3075.673390552447 3250.217117163068\n",
      "4341.405257688541 5198.478753530817 3989.2723131674215 4525.084512023285\n",
      "7021.239401462097 10204.924086723882 7021.239401462097 7736.562517105157\n",
      "7139.351235218351 9077.82957329328 3148.825184948601 7745.4455918675085\n",
      "4305.698495313967 4418.685774163912 3573.6989838146824 4053.0816679968802\n",
      "9223.75287293339 13240.225235287846 4757.1009793712865 9106.995767685912\n",
      "5003.065503958512 5620.619485836612 3877.601300244053 5090.176544992252\n",
      "4916.928318978682 7284.98788535171 2154.9414206573247 6247.330250517945\n",
      "1200.602210856311 1512.0505212033054 807.2986943259975 1359.1157426127877\n",
      "4083.229453842793 4793.602131332815 3844.367551124695 3894.16792273895\n",
      "5836.549191321784 7434.5807656281895 4389.3524196172 7315.881985255743\n",
      "6789.99887128086 8483.610655764298 6789.99887128086 7247.117479940972\n",
      "2244.71258628554 2335.432211697316 1966.7901812203077 2028.0165536781212\n",
      "9998.528173056735 11312.331686181898 9998.528173056735 10019.315690485892\n",
      "5640.158678276762 7995.208951944779 5640.158678276762 7692.5935486099115\n",
      "2895.924470008132 3187.113526471278 2895.924470008132 2910.054904362376\n",
      "4824.043052250203 5094.070086986074 4824.043052250203 4873.679514109068\n",
      "9894.132448263175 10849.532885437677 4774.892146409343 6820.70778654131\n"
     ]
    }
   ],
   "source": [
    "# random.seed(0xdeadbeed)\n",
    "for i in range(20):\n",
    "    open_price, high_price, low_price, close_price = generate_market_prices()\n",
    "    print(open_price, high_price, low_price, close_price)"
   ]
  },
  {
   "cell_type": "code",
   "execution_count": 14,
   "id": "82947fcb-60ec-487d-9bc5-e584faef1a45",
   "metadata": {},
   "outputs": [
    {
     "name": "stdout",
     "output_type": "stream",
     "text": [
      "Timing for 100\n"
     ]
    }
   ],
   "source": [
    "#np.random.random_sample((1,100))\n",
    "#weights = weights/np.sum(weights)\n",
    "@timed(100)\n",
    "def generate_stock_data(company_name_list, unique_ticker, weights=None):\n",
    "    \"\"\"\n",
    "    Creates a pseudo-stock market status based on the company, list, ticker and weights\n",
    "    Returns:\n",
    "        list: generated pseudo stock market data\n",
    "        float: Open value based on weighted average of the indices\n",
    "        float: High value based on weighted average of the indices\n",
    "        float: Low value based on weighted average of the indices\n",
    "        float: Close value based on weighted average of the indices   \n",
    "    \"\"\"\n",
    "    stocks_list = []\n",
    "    ticker_length = len(unique_ticker)\n",
    "    company_name_list_length = len(company_name_list)\n",
    "    if(company_name_list_length != ticker_length):\n",
    "        print(\"Length of company list{company_name_list_length} doesn't match length of ticker length {ticker_length}\")\n",
    "        raise Exception\n",
    "    if(weights is None):\n",
    "        weights = np.random.random_sample((ticker_length,)).round(2)\n",
    "    for company_name,ticker,weight in zip(company_name_list, unique_ticker, weights):\n",
    "        price_list = generate_market_prices()\n",
    "        stocks_list.append(single_stock_type(company_name, ticker,*price_list,weight))\n",
    "    #     stocks_list.append()\n",
    "    open_total = high_total = low_total = close_total = total_weight = 0.0\n",
    "    for single_stock in stocks_list:\n",
    "        open_total += single_stock.Open*single_stock.Weight\n",
    "        high_total += single_stock.High*single_stock.Weight\n",
    "        low_total += single_stock.Low*single_stock.Weight\n",
    "        close_total += single_stock.Close*single_stock.Weight\n",
    "        total_weight += single_stock.Weight\n",
    "    \n",
    "#     print(open_total/total_weight, high_total/total_weight,low_total/total_weight,close_total/total_weight)\n",
    "    return stocks_list, open_total/total_weight, high_total/total_weight,low_total/total_weight,close_total/total_weight\n"
   ]
  },
  {
   "cell_type": "code",
   "execution_count": 19,
   "id": "a5f6a035-0666-4705-8209-de3aeb92e1ec",
   "metadata": {
    "tags": []
   },
   "outputs": [
    {
     "name": "stdout",
     "output_type": "stream",
     "text": [
      "Average Run time for 100 repetitions: 0.817ms\n"
     ]
    }
   ],
   "source": [
    "# %%timeit\n",
    "# for i in range(20):\n",
    "\n",
    "stocks_list, index_open, index_high, index_low,index_close = generate_stock_data(company_name_list[:100], unique_ticker[:100])"
   ]
  },
  {
   "cell_type": "code",
   "execution_count": 23,
   "id": "7ade5952-6e0a-4021-853d-1fe3a075c631",
   "metadata": {
    "tags": []
   },
   "outputs": [
    {
     "data": {
      "text/html": [
       "<div>\n",
       "<style scoped>\n",
       "    .dataframe tbody tr th:only-of-type {\n",
       "        vertical-align: middle;\n",
       "    }\n",
       "\n",
       "    .dataframe tbody tr th {\n",
       "        vertical-align: top;\n",
       "    }\n",
       "\n",
       "    .dataframe thead th {\n",
       "        text-align: right;\n",
       "    }\n",
       "</style>\n",
       "<table border=\"1\" class=\"dataframe\">\n",
       "  <thead>\n",
       "    <tr style=\"text-align: right;\">\n",
       "      <th></th>\n",
       "      <th>Company</th>\n",
       "      <th>Symbol</th>\n",
       "      <th>Open</th>\n",
       "      <th>High</th>\n",
       "      <th>Low</th>\n",
       "      <th>Close</th>\n",
       "      <th>Weight</th>\n",
       "    </tr>\n",
       "  </thead>\n",
       "  <tbody>\n",
       "    <tr>\n",
       "      <th>0</th>\n",
       "      <td>Chang-Fisher</td>\n",
       "      <td>CHAN</td>\n",
       "      <td>7393.210260</td>\n",
       "      <td>7692.416520</td>\n",
       "      <td>6298.500009</td>\n",
       "      <td>7426.423204</td>\n",
       "      <td>0.19</td>\n",
       "    </tr>\n",
       "    <tr>\n",
       "      <th>1</th>\n",
       "      <td>Sheppard-Tucker</td>\n",
       "      <td>SHEP</td>\n",
       "      <td>5694.536366</td>\n",
       "      <td>6009.015594</td>\n",
       "      <td>5240.843013</td>\n",
       "      <td>5768.709694</td>\n",
       "      <td>0.87</td>\n",
       "    </tr>\n",
       "    <tr>\n",
       "      <th>2</th>\n",
       "      <td>Faulkner-Howard</td>\n",
       "      <td>FAUL</td>\n",
       "      <td>627.675201</td>\n",
       "      <td>741.327953</td>\n",
       "      <td>362.826199</td>\n",
       "      <td>605.519649</td>\n",
       "      <td>0.27</td>\n",
       "    </tr>\n",
       "    <tr>\n",
       "      <th>3</th>\n",
       "      <td>Wagner LLC</td>\n",
       "      <td>WAGN</td>\n",
       "      <td>4055.479385</td>\n",
       "      <td>5547.197560</td>\n",
       "      <td>4008.689717</td>\n",
       "      <td>4312.279379</td>\n",
       "      <td>0.18</td>\n",
       "    </tr>\n",
       "    <tr>\n",
       "      <th>4</th>\n",
       "      <td>Campos PLC</td>\n",
       "      <td>CAMP</td>\n",
       "      <td>2813.307340</td>\n",
       "      <td>4219.613785</td>\n",
       "      <td>2813.307340</td>\n",
       "      <td>4216.666456</td>\n",
       "      <td>0.84</td>\n",
       "    </tr>\n",
       "    <tr>\n",
       "      <th>...</th>\n",
       "      <td>...</td>\n",
       "      <td>...</td>\n",
       "      <td>...</td>\n",
       "      <td>...</td>\n",
       "      <td>...</td>\n",
       "      <td>...</td>\n",
       "      <td>...</td>\n",
       "    </tr>\n",
       "    <tr>\n",
       "      <th>95</th>\n",
       "      <td>Robbins-Roman</td>\n",
       "      <td>ROBB</td>\n",
       "      <td>2393.402683</td>\n",
       "      <td>3577.818659</td>\n",
       "      <td>2393.402683</td>\n",
       "      <td>3295.628383</td>\n",
       "      <td>0.99</td>\n",
       "    </tr>\n",
       "    <tr>\n",
       "      <th>96</th>\n",
       "      <td>Marsh PLC</td>\n",
       "      <td>MARS</td>\n",
       "      <td>2690.177243</td>\n",
       "      <td>3444.872437</td>\n",
       "      <td>1312.371439</td>\n",
       "      <td>1887.547799</td>\n",
       "      <td>0.56</td>\n",
       "    </tr>\n",
       "    <tr>\n",
       "      <th>97</th>\n",
       "      <td>Turner Group</td>\n",
       "      <td>TURN</td>\n",
       "      <td>5282.787048</td>\n",
       "      <td>6798.080987</td>\n",
       "      <td>5282.787048</td>\n",
       "      <td>6435.646734</td>\n",
       "      <td>0.28</td>\n",
       "    </tr>\n",
       "    <tr>\n",
       "      <th>98</th>\n",
       "      <td>Murray, Watson and Reyes</td>\n",
       "      <td>MURR</td>\n",
       "      <td>5204.840117</td>\n",
       "      <td>7622.363609</td>\n",
       "      <td>3736.996207</td>\n",
       "      <td>6849.217970</td>\n",
       "      <td>0.03</td>\n",
       "    </tr>\n",
       "    <tr>\n",
       "      <th>99</th>\n",
       "      <td>Shaw, Berry and Gregory</td>\n",
       "      <td>SHAW</td>\n",
       "      <td>5207.067135</td>\n",
       "      <td>5815.844662</td>\n",
       "      <td>3036.291309</td>\n",
       "      <td>3776.955822</td>\n",
       "      <td>0.44</td>\n",
       "    </tr>\n",
       "  </tbody>\n",
       "</table>\n",
       "<p>100 rows × 7 columns</p>\n",
       "</div>"
      ],
      "text/plain": [
       "                     Company Symbol         Open         High          Low  \\\n",
       "0               Chang-Fisher   CHAN  7393.210260  7692.416520  6298.500009   \n",
       "1            Sheppard-Tucker   SHEP  5694.536366  6009.015594  5240.843013   \n",
       "2            Faulkner-Howard   FAUL   627.675201   741.327953   362.826199   \n",
       "3                 Wagner LLC   WAGN  4055.479385  5547.197560  4008.689717   \n",
       "4                 Campos PLC   CAMP  2813.307340  4219.613785  2813.307340   \n",
       "..                       ...    ...          ...          ...          ...   \n",
       "95             Robbins-Roman   ROBB  2393.402683  3577.818659  2393.402683   \n",
       "96                 Marsh PLC   MARS  2690.177243  3444.872437  1312.371439   \n",
       "97              Turner Group   TURN  5282.787048  6798.080987  5282.787048   \n",
       "98  Murray, Watson and Reyes   MURR  5204.840117  7622.363609  3736.996207   \n",
       "99   Shaw, Berry and Gregory   SHAW  5207.067135  5815.844662  3036.291309   \n",
       "\n",
       "          Close  Weight  \n",
       "0   7426.423204    0.19  \n",
       "1   5768.709694    0.87  \n",
       "2    605.519649    0.27  \n",
       "3   4312.279379    0.18  \n",
       "4   4216.666456    0.84  \n",
       "..          ...     ...  \n",
       "95  3295.628383    0.99  \n",
       "96  1887.547799    0.56  \n",
       "97  6435.646734    0.28  \n",
       "98  6849.217970    0.03  \n",
       "99  3776.955822    0.44  \n",
       "\n",
       "[100 rows x 7 columns]"
      ]
     },
     "execution_count": 23,
     "metadata": {},
     "output_type": "execute_result"
    }
   ],
   "source": [
    "pd.DataFrame(stocks_list)"
   ]
  },
  {
   "cell_type": "markdown",
   "id": "7ee744bd-6ecb-4464-82b9-08834e535de2",
   "metadata": {},
   "source": [
    "### Calculated Index values"
   ]
  },
  {
   "cell_type": "code",
   "execution_count": 24,
   "id": "88c2ea2d-1dce-4f55-94af-050f0e1f7cd4",
   "metadata": {},
   "outputs": [
    {
     "name": "stdout",
     "output_type": "stream",
     "text": [
      "5181.794566074585 6839.61210753831 4319.8644551433845 5606.099953395262\n"
     ]
    }
   ],
   "source": [
    "print(index_open, index_high, index_low,index_close)"
   ]
  },
  {
   "cell_type": "markdown",
   "id": "1bd0db8a-250d-4dd2-9dec-4e24d1e17ca1",
   "metadata": {},
   "source": [
    "### Person Profile "
   ]
  },
  {
   "cell_type": "code",
   "execution_count": 26,
   "id": "c67da451-a51c-40dd-9eb8-ed5711d1b0b2",
   "metadata": {},
   "outputs": [
    {
     "data": {
      "text/plain": [
       "{'job': 'Musician',\n",
       " 'company': 'Williams-Sheppard',\n",
       " 'ssn': '498-52-4970',\n",
       " 'residence': 'Unit 5938 Box 2421\\nDPO AP 33335',\n",
       " 'current_location': (Decimal('52.958961'), Decimal('143.143712')),\n",
       " 'blood_group': 'B+',\n",
       " 'website': ['http://www.rivera.com/',\n",
       "  'http://grimes-green.net/',\n",
       "  'http://www.larsen.com/'],\n",
       " 'username': 'leeashley',\n",
       " 'name': 'Gary Cross',\n",
       " 'sex': 'M',\n",
       " 'address': '711 Golden Overpass\\nWest Andreaville, MA 71317',\n",
       " 'mail': 'tamaramorrison@hotmail.com',\n",
       " 'birthdate': datetime.date(1944, 9, 2)}"
      ]
     },
     "execution_count": 26,
     "metadata": {},
     "output_type": "execute_result"
    }
   ],
   "source": [
    "fake = Faker()\n",
    "Faker.seed(0)\n",
    "Faker().profile()"
   ]
  },
  {
   "cell_type": "code",
   "execution_count": 27,
   "id": "32c904fc-4177-4347-bbe2-cb34e7121cfd",
   "metadata": {},
   "outputs": [],
   "source": [
    "dict_dp2 = fake.profile()"
   ]
  },
  {
   "cell_type": "markdown",
   "id": "db39fbbf-45ed-495b-9530-9b86c869a637",
   "metadata": {},
   "source": [
    "### Generating namedtuple based on Faker's profile"
   ]
  },
  {
   "cell_type": "code",
   "execution_count": 28,
   "id": "8ff93bf2-a6c7-48c2-83f5-343359b8b7a5",
   "metadata": {},
   "outputs": [
    {
     "data": {
      "text/plain": [
       "('job',\n",
       " 'company',\n",
       " 'ssn',\n",
       " 'residence',\n",
       " 'current_location',\n",
       " 'blood_group',\n",
       " 'website',\n",
       " 'username',\n",
       " 'name',\n",
       " 'sex',\n",
       " 'address',\n",
       " 'mail',\n",
       " 'birthdate')"
      ]
     },
     "execution_count": 28,
     "metadata": {},
     "output_type": "execute_result"
    }
   ],
   "source": [
    "named_profile = namedtuple('Profile', ['job',\n",
    "                                        'company',\n",
    "                                        'ssn',\n",
    "                                        'residence',\n",
    "                                        'current_location',\n",
    "                                        'blood_group',\n",
    "                                        'website',\n",
    "                                        'username',\n",
    "                                        'name',\n",
    "                                        'sex',\n",
    "                                        'address',\n",
    "                                        'mail',\n",
    "                                        'birthdate'])\n",
    "\n",
    "named_profile._fields"
   ]
  },
  {
   "cell_type": "code",
   "execution_count": 29,
   "id": "a87e989d-8d93-498d-822f-5931dd0e3c25",
   "metadata": {},
   "outputs": [],
   "source": [
    "def generate_fake_lists(count = 10000):\n",
    "    \"\"\"\n",
    "    Generates fake profiles and Returns 2 lists:\n",
    "        list: List of NamedTuple\n",
    "        list: \n",
    "    \"\"\"\n",
    "    profile_list = []\n",
    "    profile_dict_list = []\n",
    "    for _ in range(count):\n",
    "        current_entry = fake.profile()\n",
    "        profile_list.append(named_profile(**current_entry))\n",
    "        profile_dict_list.append(current_entry)\n",
    "    return profile_list, profile_dict_list"
   ]
  },
  {
   "cell_type": "markdown",
   "id": "13e29fc8-8043-4bc6-9e79-b4ba6f20dbba",
   "metadata": {},
   "source": [
    "### Pre=generate\n",
    "We pre-generate the list as both list of namedtuple and list of dicts\n"
   ]
  },
  {
   "cell_type": "code",
   "execution_count": 31,
   "id": "5a35a389-ff6c-47fa-aa4e-b77062ae2a7a",
   "metadata": {},
   "outputs": [],
   "source": [
    "\n",
    "profile_tuple_list, profile_dict_list = generate_fake_lists(10000)"
   ]
  },
  {
   "cell_type": "code",
   "execution_count": 32,
   "id": "99029272-79aa-4d22-a90a-52e3c11857ee",
   "metadata": {},
   "outputs": [
    {
     "data": {
      "text/plain": [
       "Profile(job='Engineer, broadcasting (operations)', company='Robbins Group', ssn='216-94-1001', residence='USS Stephens\\nFPO AP 13804', current_location=(Decimal('-20.228286'), Decimal('-142.416727')), blood_group='B-', website=['https://white-gordon.com/'], username='kmassey', name='Jeanne Green', sex='F', address='22584 Candice Mills\\nNorth Thomas, OK 67164', mail='deborah64@gmail.com', birthdate=datetime.date(1981, 10, 26))"
      ]
     },
     "execution_count": 32,
     "metadata": {},
     "output_type": "execute_result"
    }
   ],
   "source": [
    "profile_tuple_list[0]"
   ]
  },
  {
   "cell_type": "code",
   "execution_count": 37,
   "id": "d63ff370-270e-45d5-b000-ffecbba32a67",
   "metadata": {},
   "outputs": [
    {
     "data": {
      "text/plain": [
       "(__main__.Profile, dict)"
      ]
     },
     "execution_count": 37,
     "metadata": {},
     "output_type": "execute_result"
    }
   ],
   "source": [
    "type(profile_tuple_list[0]), type(profile_dict_list[0])"
   ]
  },
  {
   "cell_type": "code",
   "execution_count": 33,
   "id": "d91d511b-b646-478e-b53a-2aeb3457c905",
   "metadata": {},
   "outputs": [
    {
     "data": {
      "text/plain": [
       "['job',\n",
       " 'company',\n",
       " 'ssn',\n",
       " 'residence',\n",
       " 'current_location',\n",
       " 'blood_group',\n",
       " 'website',\n",
       " 'username',\n",
       " 'name',\n",
       " 'sex',\n",
       " 'address',\n",
       " 'mail',\n",
       " 'birthdate']"
      ]
     },
     "execution_count": 33,
     "metadata": {},
     "output_type": "execute_result"
    }
   ],
   "source": [
    "list(profile_tuple_list[0]._fields)# == list(fake.profile().keys())"
   ]
  },
  {
   "cell_type": "code",
   "execution_count": 34,
   "id": "b05cec31-73a1-4ce3-8dbc-fe37d7024355",
   "metadata": {},
   "outputs": [
    {
     "name": "stdout",
     "output_type": "stream",
     "text": [
      "Timing for 100\n"
     ]
    }
   ],
   "source": [
    "@timed(100)\n",
    "def retrieve_details_for_tuple(profile_list: list):\n",
    "    \"\"\"\n",
    "    Wrapper function that takes a list of dicts or a list of namedtuples\n",
    "    and returns the following:\n",
    "        str: most common blood_group\n",
    "        float: average age of the profiles in the list\n",
    "        int: age of the oldest member in the list\n",
    "        float: average latitude\n",
    "        float: average longitude\n",
    "    \"\"\"\n",
    "    from datetime import datetime\n",
    "    import random\n",
    "    \n",
    "    def calculate_bg_count(profile_list: list, profile_element_type: type):\n",
    "        \"\"\"\n",
    "            Inner function that performs the real calculations.\n",
    "            Inputs:\n",
    "                list: List of dicts or List of namedtuple\n",
    "                type: Type of the element\n",
    "            Output:\n",
    "                str: most common blood_group\n",
    "                float: average age of the profiles in the list\n",
    "                int: age of the oldest member in the list\n",
    "                float: average latitude\n",
    "                float: average longitude\n",
    "        \"\"\"\n",
    "        bg_count = {'B+':0, 'O-':0, 'AB-':0, 'A-':0, 'AB+':0, 'A+':0, 'O+':0, 'B-':0}\n",
    "        current_date = datetime.date(datetime.now())\n",
    "        oldest_member_age = 0\n",
    "        age_sum = 0.\n",
    "        current_pos_long_sum = 0.\n",
    "        current_pos_lat_sum = 0.\n",
    "        mean_gregorian_years = 365.245\n",
    "        if not isinstance(profile_list, list):\n",
    "            print(\"Expecting a list of namedtuples\")\n",
    "            raise TypeError\n",
    "        for list_entry in profile_list:\n",
    "            if not isinstance(list_entry, profile_element_type):\n",
    "                print(f\"Element is not of valid type {profile_element_type}\")\n",
    "                raise TypeError\n",
    "#             _, _, blood_group, *_ = list_entry\n",
    "#             _,_,_,_,_,blood_group,*_d\n",
    "            if (profile_element_type == dict):\n",
    "                _,_,_,_,current_pos,blood_group, _, _,name,*_,dob = list_entry.values()\n",
    "            else:\n",
    "                _,_,_,_,current_pos,blood_group, _, _,name,*_,dob = list_entry   \n",
    "            ### Adding the blood group\n",
    "            bg_count[blood_group] += 1\n",
    "            current_pos_lat_sum += float(current_pos[0])\n",
    "            current_pos_long_sum += float(current_pos[1])\n",
    "\n",
    "            current_profile_age = (current_date - dob).days \n",
    "            age_sum += current_profile_age\n",
    "             \n",
    "            if current_profile_age > oldest_member_age:\n",
    "                oldest_member_age = current_profile_age\n",
    " \n",
    "        \n",
    "        bg_count = dict(sorted(bg_count.items(), key=lambda item: item[1]))\n",
    "#         print(bg_count)\n",
    "        return bg_count.popitem()[0],\\\n",
    "                age_sum/(mean_gregorian_years*len(profile_list)), \\\n",
    "                int(oldest_member_age/mean_gregorian_years), \\\n",
    "                current_pos_lat_sum/len(profile_list),\\\n",
    "                current_pos_long_sum/len(profile_list)\n",
    "    \n",
    "    ### take a random element from the list and retrieve the type\n",
    "    element_type = type(profile_list[random.randint(1, len(profile_dict_list)-1)])\n",
    "    \n",
    "#     print(f\"Elements are of type {element_type}\")\n",
    "    return calculate_bg_count(profile_list, element_type)"
   ]
  },
  {
   "cell_type": "markdown",
   "id": "1a6fa21b-d074-46d9-9047-153b15473877",
   "metadata": {},
   "source": [
    "### Perf check for namedtuples vs dicts"
   ]
  },
  {
   "cell_type": "code",
   "execution_count": 35,
   "id": "daf7fe9a-8a2a-4807-9493-7e8df2ca120e",
   "metadata": {
    "tags": []
   },
   "outputs": [
    {
     "name": "stdout",
     "output_type": "stream",
     "text": [
      "Average Run time for 100 repetitions: 19.861ms\n"
     ]
    },
    {
     "data": {
      "text/plain": [
       "('AB+', 58.325128338512506, 115, 0.4500250814499985, -0.5658388624999983)"
      ]
     },
     "execution_count": 35,
     "metadata": {},
     "output_type": "execute_result"
    }
   ],
   "source": [
    "# %%timeit\n",
    "retrieve_details_for_tuple(profile_dict_list)"
   ]
  },
  {
   "cell_type": "code",
   "execution_count": 38,
   "id": "eb60a324-4c08-42e6-86bf-3a384e00aec5",
   "metadata": {},
   "outputs": [
    {
     "name": "stdout",
     "output_type": "stream",
     "text": [
      "Average Run time for 100 repetitions: 18.321ms\n"
     ]
    },
    {
     "data": {
      "text/plain": [
       "('AB+', 58.325128338512506, 115, 0.4500250814499985, -0.5658388624999983)"
      ]
     },
     "execution_count": 38,
     "metadata": {},
     "output_type": "execute_result"
    }
   ],
   "source": [
    "# %%timeit\n",
    "retrieve_details_for_tuple(profile_tuple_list)"
   ]
  },
  {
   "cell_type": "markdown",
   "id": "b0189094-63a2-4548-bec4-88bcb3113b2f",
   "metadata": {},
   "source": [
    "### Final verdict: Seems like namedtuples perform marginally better"
   ]
  }
 ],
 "metadata": {
  "kernelspec": {
   "display_name": "Python 3",
   "language": "python",
   "name": "python3"
  },
  "language_info": {
   "codemirror_mode": {
    "name": "ipython",
    "version": 3
   },
   "file_extension": ".py",
   "mimetype": "text/x-python",
   "name": "python",
   "nbconvert_exporter": "python",
   "pygments_lexer": "ipython3",
   "version": "3.8.5"
  }
 },
 "nbformat": 4,
 "nbformat_minor": 5
}
